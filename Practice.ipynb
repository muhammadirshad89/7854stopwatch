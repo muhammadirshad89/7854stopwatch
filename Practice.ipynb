{
  "nbformat": 4,
  "nbformat_minor": 0,
  "metadata": {
    "colab": {
      "name": "Practice.ipynb",
      "provenance": [],
      "collapsed_sections": [],
      "authorship_tag": "ABX9TyM6zu3Gh4tb1b10KaLV1j21",
      "include_colab_link": true
    },
    "kernelspec": {
      "name": "python3",
      "display_name": "Python 3"
    },
    "language_info": {
      "name": "python"
    }
  },
  "cells": [
    {
      "cell_type": "markdown",
      "metadata": {
        "id": "view-in-github",
        "colab_type": "text"
      },
      "source": [
        "<a href=\"https://colab.research.google.com/github/muhammadirshad89/7854stopwatch/blob/master/Practice.ipynb\" target=\"_parent\"><img src=\"https://colab.research.google.com/assets/colab-badge.svg\" alt=\"Open In Colab\"/></a>"
      ]
    },
    {
      "cell_type": "code",
      "execution_count": null,
      "metadata": {
        "colab": {
          "base_uri": "https://localhost:8080/"
        },
        "id": "QklZ5AYf0woz",
        "outputId": "75313f13-000a-4d0f-b6f4-ccc33c0a047b"
      },
      "outputs": [
        {
          "output_type": "stream",
          "name": "stdout",
          "text": [
            "17\n"
          ]
        }
      ],
      "source": [
        "a = 8\n",
        "b = 9\n",
        "print(a+b)"
      ]
    },
    {
      "cell_type": "code",
      "source": [
        "month = int(input('Enter Month in Number'))\n",
        "\n",
        "if month == 12 or month == 1 or month == 2:\n",
        " print ('Winter-Season')\n",
        "elif month == 3 or month == 4 or month == 5:\n",
        " print ('Spring-Season')\n",
        "\n",
        "elif month == 6 or month == 7 or month == 8:\n",
        " print ('Summer-Season')\n",
        "\n",
        "elif month == 9 or month == 10 or month == 11:\n",
        " print ('Autum-Season')\n",
        " \n",
        "else :\n",
        " print ('You have Entered a Wrong Number')"
      ],
      "metadata": {
        "colab": {
          "base_uri": "https://localhost:8080/"
        },
        "id": "ZRgbLFel1FbS",
        "outputId": "572f0747-b4a0-4fbf-f044-df975fa56f69"
      },
      "execution_count": null,
      "outputs": [
        {
          "output_type": "stream",
          "name": "stdout",
          "text": [
            "Enter Month in Number13\n",
            "You have Entered a Wrong Number\n"
          ]
        }
      ]
    },
    {
      "cell_type": "code",
      "source": [
        "age = int(input('enter your age'))\n",
        "\n",
        "if(age>30):\n",
        " print ('Not Accepted')\n",
        "else:\n",
        " print ('Accepted')"
      ],
      "metadata": {
        "id": "qM7S0gza73S_"
      },
      "execution_count": null,
      "outputs": []
    },
    {
      "cell_type": "code",
      "source": [
        "nic = int(input('Enter Your Age'))\n",
        "\n",
        "if(nic>65):\n",
        " print ('Your Cnic has been printed for Lifetime')\n",
        "else:\n",
        " print ('Go to counter 1 and Share your Data to Representative')"
      ],
      "metadata": {
        "colab": {
          "base_uri": "https://localhost:8080/"
        },
        "id": "gRD7xqdd8bm2",
        "outputId": "c9525b00-cfd6-4c5b-e6d9-5c49a59dc1bf"
      },
      "execution_count": null,
      "outputs": [
        {
          "output_type": "stream",
          "name": "stdout",
          "text": [
            "Enter Your Age77\n",
            "Your Cnic has been printed for Lifetime\n"
          ]
        }
      ]
    },
    {
      "cell_type": "code",
      "source": [
        "x = int(input('Enter Number'))\n",
        "\n",
        "if(x<10):\n",
        " print('single Digit')\n",
        "else:\n",
        " print('Two Digit Number')"
      ],
      "metadata": {
        "colab": {
          "base_uri": "https://localhost:8080/"
        },
        "id": "rukt6l7W-MJ1",
        "outputId": "dcf5d8c2-4e19-460a-f11a-400d808a0559"
      },
      "execution_count": null,
      "outputs": [
        {
          "output_type": "stream",
          "name": "stdout",
          "text": [
            "Enter Number25\n",
            "Two Digit Number\n"
          ]
        }
      ]
    },
    {
      "cell_type": "code",
      "source": [
        "sal = int(input(\"Enter Your Annual Salary\"))\n",
        "\n",
        "if(sal>600000):\n",
        " print ('Your Tax is Due')\n",
        "else:\n",
        " print ('You are Exampted from tax')"
      ],
      "metadata": {
        "id": "MxzF9EZL-cFd",
        "colab": {
          "base_uri": "https://localhost:8080/"
        },
        "outputId": "413a67e8-08a6-4039-97a0-1dd1d86b09db"
      },
      "execution_count": null,
      "outputs": [
        {
          "output_type": "stream",
          "name": "stdout",
          "text": [
            "Enter Your Annual Salary650000\n",
            "Your Tax is Due\n"
          ]
        }
      ]
    },
    {
      "cell_type": "code",
      "source": [
        "print(\"\"\"press 1 for Addition \\n\n",
        "Press 2 for Substraction \\n\n",
        "Press 3 For Multiplication \\n\n",
        "press 4 For Division\"\"\")\n",
        "\n",
        "u_operator = int(input(\"\"))\n",
        "\n",
        "number_1 = int(input('Enter First Number'))\n",
        "number_2 = int(input('Enter Second Number'))\n",
        "\n",
        "if u_operator ==1:\n",
        " add = number_1+number_2\n",
        " print (add)\n",
        "elif u_operator ==2: \n",
        " add = number_1-number_2\n",
        " print (add)\n",
        "elif u_operator ==3: \n",
        " add = number_1*number_2\n",
        " print (add)\n",
        "elif u_operator ==4:\n",
        " add = number_1%number_2\n",
        " print (add)\n",
        "else: \n",
        " print ('Your Input was Wrong')"
      ],
      "metadata": {
        "colab": {
          "base_uri": "https://localhost:8080/"
        },
        "id": "nh5Abam-JeHI",
        "outputId": "c775336a-18e5-459a-9ea7-e87669412ddb"
      },
      "execution_count": null,
      "outputs": [
        {
          "output_type": "stream",
          "name": "stdout",
          "text": [
            "press 1 for Addition \n",
            "\n",
            "Press 2 for Substraction \n",
            "\n",
            "Press 3 For Multiplication \n",
            "\n",
            "press 4 For Division\n",
            "3\n",
            "Enter First Number5\n",
            "Enter Second Number3\n",
            "15\n"
          ]
        }
      ]
    },
    {
      "cell_type": "code",
      "source": [
        "\n",
        "password = input ('Enter your password ')\n",
        "\n",
        "if len(password)>8:\n",
        " print('Good to Go')\n",
        "else:\n",
        " print('Password is too short')"
      ],
      "metadata": {
        "colab": {
          "base_uri": "https://localhost:8080/"
        },
        "id": "y1lr7hJrMPEy",
        "outputId": "2bcc3ea2-2ea0-4ba3-ac1f-32df0281cff6"
      },
      "execution_count": null,
      "outputs": [
        {
          "output_type": "stream",
          "name": "stdout",
          "text": [
            "Enter your password 123456sdf\n",
            "Good to Go\n"
          ]
        }
      ]
    },
    {
      "cell_type": "code",
      "source": [
        "marks = [1, 50, 60, 90,]\n",
        "marks[2]\n",
        "marks.append(\"faraz\")\n",
        "marks.pop(1)\n",
        "marks"
      ],
      "metadata": {
        "id": "BvsxLUNZSLhY",
        "colab": {
          "base_uri": "https://localhost:8080/"
        },
        "outputId": "10eda6c8-bc9f-465e-fca5-e87c9077c54f"
      },
      "execution_count": null,
      "outputs": [
        {
          "output_type": "execute_result",
          "data": {
            "text/plain": [
              "[1, 60, 90, 'faraz']"
            ]
          },
          "metadata": {},
          "execution_count": 84
        }
      ]
    },
    {
      "cell_type": "code",
      "source": [
        "friends = ['Ammar', 'Asad', 'Arifeen']\n",
        "\n",
        "a = input (\"Enter a choice \\n 1 for adding \\n press 2 for deletion\")\n",
        "\n",
        "if a == '1':\n",
        " b = input (\"Enter the name of your friends\")\n",
        " friends.append(b)\n",
        "elif a == '2':\n",
        " c = input (\"Enter the index no of your friend\")\n",
        " del friends[int(c)]\n",
        "else:\n",
        " print (\"invalid choice\")"
      ],
      "metadata": {
        "colab": {
          "base_uri": "https://localhost:8080/"
        },
        "id": "FciS1gxOy0j0",
        "outputId": "61930b24-a112-4290-86b8-5544d87b5893"
      },
      "execution_count": null,
      "outputs": [
        {
          "name": "stdout",
          "output_type": "stream",
          "text": [
            "Enter a choice \n",
            " 1 for adding \n",
            " press 2 for deletion1\n",
            "Enter the name of your friendsAli\n"
          ]
        }
      ]
    },
    {
      "cell_type": "code",
      "source": [
        "friends.append ('Saima')"
      ],
      "metadata": {
        "id": "6OmkgR1x47kA"
      },
      "execution_count": null,
      "outputs": []
    },
    {
      "cell_type": "code",
      "source": [
        "print (friends)"
      ],
      "metadata": {
        "colab": {
          "base_uri": "https://localhost:8080/"
        },
        "id": "QF--vbWv2bEJ",
        "outputId": "f2831cce-e3e1-4674-c343-c37fee9c3509"
      },
      "execution_count": null,
      "outputs": [
        {
          "output_type": "stream",
          "name": "stdout",
          "text": [
            "['Ammar', 'Asad', 'Arifeen', 'Ali']\n"
          ]
        }
      ]
    },
    {
      "cell_type": "code",
      "source": [
        "#Slice\n",
        "print(friends[-2:-1])"
      ],
      "metadata": {
        "colab": {
          "base_uri": "https://localhost:8080/"
        },
        "id": "gbQhGgPo2fWX",
        "outputId": "bd81f92f-7edf-461a-e47f-53edcdad890d"
      },
      "execution_count": null,
      "outputs": [
        {
          "output_type": "stream",
          "name": "stdout",
          "text": [
            "['Arifeen']\n"
          ]
        }
      ]
    },
    {
      "cell_type": "code",
      "source": [
        "print(friends)"
      ],
      "metadata": {
        "colab": {
          "base_uri": "https://localhost:8080/"
        },
        "id": "28L8efi96QFb",
        "outputId": "231291a4-c6ba-439c-cb83-ecf56f7ba39f"
      },
      "execution_count": null,
      "outputs": [
        {
          "output_type": "stream",
          "name": "stdout",
          "text": [
            "['Ammar', 'Asad', 'Arifeen', 'Ali', 'Saima']\n"
          ]
        }
      ]
    },
    {
      "cell_type": "code",
      "source": [
        "nums = list(range(1,101))\n",
        "print(nums)"
      ],
      "metadata": {
        "colab": {
          "base_uri": "https://localhost:8080/"
        },
        "id": "mYmHhbyo7GG2",
        "outputId": "23ad8ed5-d420-4550-ba8d-08e645bc00d1"
      },
      "execution_count": null,
      "outputs": [
        {
          "output_type": "stream",
          "name": "stdout",
          "text": [
            "[1, 2, 3, 4, 5, 6, 7, 8, 9, 10, 11, 12, 13, 14, 15, 16, 17, 18, 19, 20, 21, 22, 23, 24, 25, 26, 27, 28, 29, 30, 31, 32, 33, 34, 35, 36, 37, 38, 39, 40, 41, 42, 43, 44, 45, 46, 47, 48, 49, 50, 51, 52, 53, 54, 55, 56, 57, 58, 59, 60, 61, 62, 63, 64, 65, 66, 67, 68, 69, 70, 71, 72, 73, 74, 75, 76, 77, 78, 79, 80, 81, 82, 83, 84, 85, 86, 87, 88, 89, 90, 91, 92, 93, 94, 95, 96, 97, 98, 99, 100]\n"
          ]
        }
      ]
    },
    {
      "cell_type": "code",
      "source": [
        "nums [4::5]"
      ],
      "metadata": {
        "colab": {
          "base_uri": "https://localhost:8080/"
        },
        "id": "reZtI01r7d1a",
        "outputId": "3494b451-8ebf-431e-a0de-49a28243915b"
      },
      "execution_count": null,
      "outputs": [
        {
          "output_type": "execute_result",
          "data": {
            "text/plain": [
              "[5,\n",
              " 10,\n",
              " 15,\n",
              " 20,\n",
              " 25,\n",
              " 30,\n",
              " 35,\n",
              " 40,\n",
              " 45,\n",
              " 50,\n",
              " 55,\n",
              " 60,\n",
              " 65,\n",
              " 70,\n",
              " 75,\n",
              " 80,\n",
              " 85,\n",
              " 90,\n",
              " 95,\n",
              " 100]"
            ]
          },
          "metadata": {},
          "execution_count": 20
        }
      ]
    },
    {
      "cell_type": "code",
      "source": [
        "#tuple it is read only function we cannot change anything in this.\n",
        "point = (10,15)"
      ],
      "metadata": {
        "id": "HqG3aI7i8zPU"
      },
      "execution_count": null,
      "outputs": []
    },
    {
      "cell_type": "code",
      "source": [
        "for i in point:\n",
        " print(i)"
      ],
      "metadata": {
        "colab": {
          "base_uri": "https://localhost:8080/"
        },
        "id": "PbEjrFWr-Gy2",
        "outputId": "e289d73c-81cd-4c0f-e648-2b4404107522"
      },
      "execution_count": null,
      "outputs": [
        {
          "output_type": "stream",
          "name": "stdout",
          "text": [
            "10\n",
            "15\n"
          ]
        }
      ]
    },
    {
      "cell_type": "code",
      "source": [
        "x,y = point"
      ],
      "metadata": {
        "id": "NPYzlfu4-iWS"
      },
      "execution_count": null,
      "outputs": []
    },
    {
      "cell_type": "code",
      "source": [
        "x"
      ],
      "metadata": {
        "colab": {
          "base_uri": "https://localhost:8080/"
        },
        "id": "lSB1ZoM8-n3g",
        "outputId": "c9d63022-3d39-4b3a-ee96-15260b053fa2"
      },
      "execution_count": null,
      "outputs": [
        {
          "output_type": "execute_result",
          "data": {
            "text/plain": [
              "10"
            ]
          },
          "metadata": {},
          "execution_count": 27
        }
      ]
    },
    {
      "cell_type": "code",
      "source": [
        "y"
      ],
      "metadata": {
        "colab": {
          "base_uri": "https://localhost:8080/"
        },
        "id": "J1p0zKJH-qIO",
        "outputId": "c5dcf2cb-3f9d-48bf-d793-0c757b4e2704"
      },
      "execution_count": null,
      "outputs": [
        {
          "output_type": "execute_result",
          "data": {
            "text/plain": [
              "15"
            ]
          },
          "metadata": {},
          "execution_count": 28
        }
      ]
    },
    {
      "cell_type": "code",
      "source": [
        "#Loop\n",
        "for i in range(1,101):\n",
        " print(i, end=\" \")"
      ],
      "metadata": {
        "colab": {
          "base_uri": "https://localhost:8080/"
        },
        "id": "gz-hgst4-rfw",
        "outputId": "d411b1f4-9c2d-423c-8c57-e603b49e5012"
      },
      "execution_count": null,
      "outputs": [
        {
          "output_type": "stream",
          "name": "stdout",
          "text": [
            "1 2 3 4 5 6 7 8 9 10 11 12 13 14 15 16 17 18 19 20 21 22 23 24 25 26 27 28 29 30 31 32 33 34 35 36 37 38 39 40 41 42 43 44 45 46 47 48 49 50 51 52 53 54 55 56 57 58 59 60 61 62 63 64 65 66 67 68 69 70 71 72 73 74 75 76 77 78 79 80 81 82 83 84 85 86 87 88 89 90 91 92 93 94 95 96 97 98 99 100 "
          ]
        }
      ]
    },
    {
      "cell_type": "code",
      "source": [
        "for i in range (1,11):\n",
        " print( \"7 x\",i, \"=\", 7*i )"
      ],
      "metadata": {
        "colab": {
          "base_uri": "https://localhost:8080/"
        },
        "id": "C60biDDx_RVy",
        "outputId": "985ec9e9-f424-4e59-fc61-cea93777d9fb"
      },
      "execution_count": null,
      "outputs": [
        {
          "output_type": "stream",
          "name": "stdout",
          "text": [
            "7 x 1 = 7\n",
            "7 x 2 = 14\n",
            "7 x 3 = 21\n",
            "7 x 4 = 28\n",
            "7 x 5 = 35\n",
            "7 x 6 = 42\n",
            "7 x 7 = 49\n",
            "7 x 8 = 56\n",
            "7 x 9 = 63\n",
            "7 x 10 = 70\n"
          ]
        }
      ]
    },
    {
      "cell_type": "code",
      "source": [
        "table = int(input (\"Enter Table :- \"))\n",
        "\n",
        "for i in range (1,11):\n",
        " print(table,\"X\",i,\"=\",table*i)"
      ],
      "metadata": {
        "colab": {
          "base_uri": "https://localhost:8080/"
        },
        "id": "Eit-kD8-Bvso",
        "outputId": "e2e1c931-c36a-47ff-fab9-3ab3d75eed2b"
      },
      "execution_count": null,
      "outputs": [
        {
          "output_type": "stream",
          "name": "stdout",
          "text": [
            "Enter Table :- 6\n",
            "6 X 1 = 6\n",
            "6 X 2 = 12\n",
            "6 X 3 = 18\n",
            "6 X 4 = 24\n",
            "6 X 5 = 30\n",
            "6 X 6 = 36\n",
            "6 X 7 = 42\n",
            "6 X 8 = 48\n",
            "6 X 9 = 54\n",
            "6 X 10 = 60\n"
          ]
        }
      ]
    },
    {
      "cell_type": "code",
      "source": [
        "for i in range(2,9):\n",
        " for h in range(1,11):\n",
        "  print(i, \"x\",h, \"=\", i*h)\n",
        " print ()"
      ],
      "metadata": {
        "colab": {
          "base_uri": "https://localhost:8080/"
        },
        "id": "mdtGI_VUCPRB",
        "outputId": "f8384497-71af-4e3a-a368-a9196dc68bf9"
      },
      "execution_count": null,
      "outputs": [
        {
          "output_type": "stream",
          "name": "stdout",
          "text": [
            "2 x 1 = 2\n",
            "2 x 2 = 4\n",
            "2 x 3 = 6\n",
            "2 x 4 = 8\n",
            "2 x 5 = 10\n",
            "2 x 6 = 12\n",
            "2 x 7 = 14\n",
            "2 x 8 = 16\n",
            "2 x 9 = 18\n",
            "2 x 10 = 20\n",
            "\n",
            "3 x 1 = 3\n",
            "3 x 2 = 6\n",
            "3 x 3 = 9\n",
            "3 x 4 = 12\n",
            "3 x 5 = 15\n",
            "3 x 6 = 18\n",
            "3 x 7 = 21\n",
            "3 x 8 = 24\n",
            "3 x 9 = 27\n",
            "3 x 10 = 30\n",
            "\n",
            "4 x 1 = 4\n",
            "4 x 2 = 8\n",
            "4 x 3 = 12\n",
            "4 x 4 = 16\n",
            "4 x 5 = 20\n",
            "4 x 6 = 24\n",
            "4 x 7 = 28\n",
            "4 x 8 = 32\n",
            "4 x 9 = 36\n",
            "4 x 10 = 40\n",
            "\n",
            "5 x 1 = 5\n",
            "5 x 2 = 10\n",
            "5 x 3 = 15\n",
            "5 x 4 = 20\n",
            "5 x 5 = 25\n",
            "5 x 6 = 30\n",
            "5 x 7 = 35\n",
            "5 x 8 = 40\n",
            "5 x 9 = 45\n",
            "5 x 10 = 50\n",
            "\n",
            "6 x 1 = 6\n",
            "6 x 2 = 12\n",
            "6 x 3 = 18\n",
            "6 x 4 = 24\n",
            "6 x 5 = 30\n",
            "6 x 6 = 36\n",
            "6 x 7 = 42\n",
            "6 x 8 = 48\n",
            "6 x 9 = 54\n",
            "6 x 10 = 60\n",
            "\n",
            "7 x 1 = 7\n",
            "7 x 2 = 14\n",
            "7 x 3 = 21\n",
            "7 x 4 = 28\n",
            "7 x 5 = 35\n",
            "7 x 6 = 42\n",
            "7 x 7 = 49\n",
            "7 x 8 = 56\n",
            "7 x 9 = 63\n",
            "7 x 10 = 70\n",
            "\n",
            "8 x 1 = 8\n",
            "8 x 2 = 16\n",
            "8 x 3 = 24\n",
            "8 x 4 = 32\n",
            "8 x 5 = 40\n",
            "8 x 6 = 48\n",
            "8 x 7 = 56\n",
            "8 x 8 = 64\n",
            "8 x 9 = 72\n",
            "8 x 10 = 80\n",
            "\n"
          ]
        }
      ]
    },
    {
      "cell_type": "code",
      "source": [
        "def CheckLeap(Year):  \n",
        "  # Checking if the given year is leap year  \n",
        "  if((Year % 400 == 0) or  \n",
        "     (Year % 100 != 0) and  \n",
        "     (Year % 4 == 0)):   \n",
        "    print(\"Given Year is a leap Year\");  \n",
        "  # Else it is not a leap year  \n",
        "  else:  \n",
        "    print (\"Given Year is not a leap Year\")  \n",
        "# Taking an input year from user  \n",
        "Year = int(input(\"Enter the number: \"))  \n",
        "# Printing result  \n",
        "CheckLeap(Year)"
      ],
      "metadata": {
        "colab": {
          "base_uri": "https://localhost:8080/"
        },
        "id": "G_t0ZaJcJSmp",
        "outputId": "dc103b72-0dd5-4ca2-ef29-f9f8c7437c77"
      },
      "execution_count": null,
      "outputs": [
        {
          "output_type": "stream",
          "name": "stdout",
          "text": [
            "Enter the number: 2024\n",
            "Given Year is a leap Year\n"
          ]
        }
      ]
    },
    {
      "cell_type": "code",
      "source": [
        "\n",
        "years = int(input(\"Enter the number of years\"))\n",
        "g = input (\"Have you cleared GRE (yes/no)\")\n",
        "gat = input (\"Have you cleared GAT (yes/no)\")\n",
        "\n",
        "if (years>= 18):\n",
        " if (g.lower() == 'yes'):\n",
        "  print (\"You are Eligible \")\n",
        " elif(gat.lower() == 'yes'):\n",
        "  print (\"Yes you are eligible \")\n",
        " else:\n",
        "  print (\"you are not eligible \")\n",
        "else:\n",
        "  print (\"you are not eligible \")"
      ],
      "metadata": {
        "id": "4akVcRS1KGdV"
      },
      "execution_count": null,
      "outputs": []
    },
    {
      "cell_type": "code",
      "source": [
        "sentence= input (\"Enter a sentence\")\n",
        "vowel_count = 0\n",
        "vowels = ['a','e','i','o','u']\n",
        "\n",
        "for i in sentence:\n",
        " if i.lower() in vowels:\n",
        "  vowel_count += 1\n",
        "  print (i)\n",
        "\n",
        "print (vowel_count)"
      ],
      "metadata": {
        "colab": {
          "base_uri": "https://localhost:8080/"
        },
        "id": "XvB4x32uQ6RH",
        "outputId": "c5591e28-8b2c-4cec-895d-7459c31070e0"
      },
      "execution_count": null,
      "outputs": [
        {
          "output_type": "stream",
          "name": "stdout",
          "text": [
            "Enter a sentenceA beautiful catchy cat around me\n",
            "A\n",
            "e\n",
            "a\n",
            "u\n",
            "i\n",
            "u\n",
            "a\n",
            "a\n",
            "a\n",
            "o\n",
            "u\n",
            "e\n",
            "12\n"
          ]
        }
      ]
    },
    {
      "cell_type": "code",
      "source": [
        ""
      ],
      "metadata": {
        "id": "hQ7NHjJuSDZi"
      },
      "execution_count": null,
      "outputs": []
    }
  ]
}