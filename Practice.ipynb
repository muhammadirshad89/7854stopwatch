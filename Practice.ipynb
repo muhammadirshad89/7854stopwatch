{
  "nbformat": 4,
  "nbformat_minor": 0,
  "metadata": {
    "colab": {
      "name": "Practice.ipynb",
      "provenance": [],
      "collapsed_sections": [],
      "authorship_tag": "ABX9TyMn6UHm5HknaF7niBzdWmuu",
      "include_colab_link": true
    },
    "kernelspec": {
      "name": "python3",
      "display_name": "Python 3"
    },
    "language_info": {
      "name": "python"
    }
  },
  "cells": [
    {
      "cell_type": "markdown",
      "metadata": {
        "id": "view-in-github",
        "colab_type": "text"
      },
      "source": [
        "<a href=\"https://colab.research.google.com/github/muhammadirshad89/7854stopwatch/blob/master/Practice.ipynb\" target=\"_parent\"><img src=\"https://colab.research.google.com/assets/colab-badge.svg\" alt=\"Open In Colab\"/></a>"
      ]
    },
    {
      "cell_type": "code",
      "execution_count": null,
      "metadata": {
        "colab": {
          "base_uri": "https://localhost:8080/"
        },
        "id": "QklZ5AYf0woz",
        "outputId": "75313f13-000a-4d0f-b6f4-ccc33c0a047b"
      },
      "outputs": [
        {
          "output_type": "stream",
          "name": "stdout",
          "text": [
            "17\n"
          ]
        }
      ],
      "source": [
        "a = 8\n",
        "b = 9\n",
        "print(a+b)"
      ]
    },
    {
      "cell_type": "code",
      "source": [
        "month = int(input('Enter Month in Number'))\n",
        "\n",
        "if month == 12 or month == 1 or month == 2:\n",
        " print ('Winter-Season')\n",
        "elif month == 3 or month == 4 or month == 5:\n",
        " print ('Spring-Season')\n",
        "\n",
        "elif month == 6 or month == 7 or month == 8:\n",
        " print ('Summer-Season')\n",
        "\n",
        "elif month == 9 or month == 10 or month == 11:\n",
        " print ('Autum-Season')\n",
        " \n",
        "else :\n",
        " print ('You have Entered a Wrong Number')"
      ],
      "metadata": {
        "colab": {
          "base_uri": "https://localhost:8080/"
        },
        "id": "ZRgbLFel1FbS",
        "outputId": "572f0747-b4a0-4fbf-f044-df975fa56f69"
      },
      "execution_count": null,
      "outputs": [
        {
          "output_type": "stream",
          "name": "stdout",
          "text": [
            "Enter Month in Number13\n",
            "You have Entered a Wrong Number\n"
          ]
        }
      ]
    },
    {
      "cell_type": "code",
      "source": [
        "age = int(input('enter your age'))\n",
        "\n",
        "if(age>30):\n",
        " print ('Not Accepted')\n",
        "else:\n",
        " print ('Accepted')"
      ],
      "metadata": {
        "id": "qM7S0gza73S_"
      },
      "execution_count": null,
      "outputs": []
    },
    {
      "cell_type": "code",
      "source": [
        "nic = int(input('Enter Your Age'))\n",
        "\n",
        "if(nic>65):\n",
        " print ('Your Cnic has been printed for Lifetime')\n",
        "else:\n",
        " print ('Go to counter 1 and Share your Data to Representative')"
      ],
      "metadata": {
        "colab": {
          "base_uri": "https://localhost:8080/"
        },
        "id": "gRD7xqdd8bm2",
        "outputId": "c9525b00-cfd6-4c5b-e6d9-5c49a59dc1bf"
      },
      "execution_count": null,
      "outputs": [
        {
          "output_type": "stream",
          "name": "stdout",
          "text": [
            "Enter Your Age77\n",
            "Your Cnic has been printed for Lifetime\n"
          ]
        }
      ]
    },
    {
      "cell_type": "code",
      "source": [
        "x = int(input('Enter Number'))\n",
        "\n",
        "if(x<10):\n",
        " print('single Digit')\n",
        "else:\n",
        " print('Two Digit Number')"
      ],
      "metadata": {
        "colab": {
          "base_uri": "https://localhost:8080/"
        },
        "id": "rukt6l7W-MJ1",
        "outputId": "dcf5d8c2-4e19-460a-f11a-400d808a0559"
      },
      "execution_count": null,
      "outputs": [
        {
          "output_type": "stream",
          "name": "stdout",
          "text": [
            "Enter Number25\n",
            "Two Digit Number\n"
          ]
        }
      ]
    },
    {
      "cell_type": "code",
      "source": [
        "sal = int(input(\"Enter Your Annual Salary\"))\n",
        "\n",
        "if(sal>600000):\n",
        " print ('Your Tax is Due')\n",
        "else:\n",
        " print ('You are Exampted from tax')"
      ],
      "metadata": {
        "id": "MxzF9EZL-cFd",
        "colab": {
          "base_uri": "https://localhost:8080/"
        },
        "outputId": "413a67e8-08a6-4039-97a0-1dd1d86b09db"
      },
      "execution_count": null,
      "outputs": [
        {
          "output_type": "stream",
          "name": "stdout",
          "text": [
            "Enter Your Annual Salary650000\n",
            "Your Tax is Due\n"
          ]
        }
      ]
    },
    {
      "cell_type": "code",
      "source": [
        "print(\"\"\"press 1 for Addition \\n\n",
        "Press 2 for Substraction \\n\n",
        "Press 3 For Multiplication \\n\n",
        "press 4 For Division\"\"\")\n",
        "\n",
        "u_operator = int(input(\"\"))\n",
        "\n",
        "number_1 = int(input('Enter First Number'))\n",
        "number_2 = int(input('Enter Second Number'))\n",
        "\n",
        "if u_operator ==1:\n",
        " add = number_1+number_2\n",
        " print (add)\n",
        "elif u_operator ==2: \n",
        " add = number_1-number_2\n",
        " print (add)\n",
        "elif u_operator ==3: \n",
        " add = number_1*number_2\n",
        " print (add)\n",
        "elif u_operator ==4:\n",
        " add = number_1%number_2\n",
        " print (add)\n",
        "else: \n",
        " print ('Your Input was Wrong')"
      ],
      "metadata": {
        "colab": {
          "base_uri": "https://localhost:8080/"
        },
        "id": "nh5Abam-JeHI",
        "outputId": "c775336a-18e5-459a-9ea7-e87669412ddb"
      },
      "execution_count": null,
      "outputs": [
        {
          "output_type": "stream",
          "name": "stdout",
          "text": [
            "press 1 for Addition \n",
            "\n",
            "Press 2 for Substraction \n",
            "\n",
            "Press 3 For Multiplication \n",
            "\n",
            "press 4 For Division\n",
            "3\n",
            "Enter First Number5\n",
            "Enter Second Number3\n",
            "15\n"
          ]
        }
      ]
    },
    {
      "cell_type": "code",
      "source": [
        "\n",
        "password = input ('Enter your password ')\n",
        "\n",
        "if len(password)>8:\n",
        " print('Good to Go')\n",
        "else:\n",
        " print('Password is too short')"
      ],
      "metadata": {
        "colab": {
          "base_uri": "https://localhost:8080/"
        },
        "id": "y1lr7hJrMPEy",
        "outputId": "2bcc3ea2-2ea0-4ba3-ac1f-32df0281cff6"
      },
      "execution_count": null,
      "outputs": [
        {
          "output_type": "stream",
          "name": "stdout",
          "text": [
            "Enter your password 123456sdf\n",
            "Good to Go\n"
          ]
        }
      ]
    }
  ]
}